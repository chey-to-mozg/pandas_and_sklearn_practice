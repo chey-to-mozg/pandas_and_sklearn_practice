{
 "cells": [
  {
   "cell_type": "code",
   "execution_count": 1,
   "metadata": {
    "collapsed": true
   },
   "outputs": [],
   "source": [
    "import pandas as pd\n",
    "import numpy as np\n"
   ]
  },
  {
   "cell_type": "code",
   "execution_count": 2,
   "outputs": [],
   "source": [
    "def print_string(str):\n",
    "    print(str)\n",
    "    print('*--------------------*')"
   ],
   "metadata": {
    "collapsed": false,
    "pycharm": {
     "name": "#%%\n"
    }
   }
  },
  {
   "cell_type": "code",
   "execution_count": 3,
   "outputs": [
    {
     "name": "stdout",
     "output_type": "stream",
     "text": [
      "           id             date      price  bedrooms  bathrooms  sqft_living  \\\n",
      "0  7129300520  20141013T000000   221900.0         3       1.00         1180   \n",
      "1  6414100192  20141209T000000   538000.0         3       2.25         2570   \n",
      "2  5631500400  20150225T000000   180000.0         2       1.00          770   \n",
      "3  2487200875  20141209T000000   604000.0         4       3.00         1960   \n",
      "4  1954400510  20150218T000000   510000.0         3       2.00         1680   \n",
      "5  7237550310  20140512T000000  1225000.0         4       4.50         5420   \n",
      "6  1321400060  20140627T000000   257500.0         3       2.25         1715   \n",
      "7  2008000270  20150115T000000   291850.0         3       1.50         1060   \n",
      "8  2414600126  20150415T000000   229500.0         3       1.00         1780   \n",
      "9  3793500160  20150312T000000   323000.0         3       2.50         1890   \n",
      "\n",
      "   sqft_lot  floors  waterfront  view  ...  grade  sqft_above  sqft_basement  \\\n",
      "0      5650     1.0           0     0  ...      7        1180              0   \n",
      "1      7242     2.0           0     0  ...      7        2170            400   \n",
      "2     10000     1.0           0     0  ...      6         770              0   \n",
      "3      5000     1.0           0     0  ...      7        1050            910   \n",
      "4      8080     1.0           0     0  ...      8        1680              0   \n",
      "5    101930     1.0           0     0  ...     11        3890           1530   \n",
      "6      6819     2.0           0     0  ...      7        1715              0   \n",
      "7      9711     1.0           0     0  ...      7        1060              0   \n",
      "8      7470     1.0           0     0  ...      7        1050            730   \n",
      "9      6560     2.0           0     0  ...      7        1890              0   \n",
      "\n",
      "   yr_built  yr_renovated  zipcode      lat     long  sqft_living15  \\\n",
      "0      1955             0    98178  47.5112 -122.257           1340   \n",
      "1      1951          1991    98125  47.7210 -122.319           1690   \n",
      "2      1933             0    98028  47.7379 -122.233           2720   \n",
      "3      1965             0    98136  47.5208 -122.393           1360   \n",
      "4      1987             0    98074  47.6168 -122.045           1800   \n",
      "5      2001             0    98053  47.6561 -122.005           4760   \n",
      "6      1995             0    98003  47.3097 -122.327           2238   \n",
      "7      1963             0    98198  47.4095 -122.315           1650   \n",
      "8      1960             0    98146  47.5123 -122.337           1780   \n",
      "9      2003             0    98038  47.3684 -122.031           2390   \n",
      "\n",
      "   sqft_lot15  \n",
      "0        5650  \n",
      "1        7639  \n",
      "2        8062  \n",
      "3        5000  \n",
      "4        7503  \n",
      "5      101930  \n",
      "6        6819  \n",
      "7        9711  \n",
      "8        8113  \n",
      "9        7570  \n",
      "\n",
      "[10 rows x 21 columns]\n",
      "*--------------------*\n",
      "               id             date      price  bedrooms  bathrooms  \\\n",
      "21603  7852140040  20140825T000000   507250.0         3       2.50   \n",
      "21604  9834201367  20150126T000000   429000.0         3       2.00   \n",
      "21605  3448900210  20141014T000000   610685.0         4       2.50   \n",
      "21606  7936000429  20150326T000000  1007500.0         4       3.50   \n",
      "21607  2997800021  20150219T000000   475000.0         3       2.50   \n",
      "21608   263000018  20140521T000000   360000.0         3       2.50   \n",
      "21609  6600060120  20150223T000000   400000.0         4       2.50   \n",
      "21610  1523300141  20140623T000000   402101.0         2       0.75   \n",
      "21611   291310100  20150116T000000   400000.0         3       2.50   \n",
      "21612  1523300157  20141015T000000   325000.0         2       0.75   \n",
      "\n",
      "       sqft_living  sqft_lot  floors  waterfront  view  ...  grade  \\\n",
      "21603         2270      5536     2.0           0     0  ...      8   \n",
      "21604         1490      1126     3.0           0     0  ...      8   \n",
      "21605         2520      6023     2.0           0     0  ...      9   \n",
      "21606         3510      7200     2.0           0     0  ...      9   \n",
      "21607         1310      1294     2.0           0     0  ...      8   \n",
      "21608         1530      1131     3.0           0     0  ...      8   \n",
      "21609         2310      5813     2.0           0     0  ...      8   \n",
      "21610         1020      1350     2.0           0     0  ...      7   \n",
      "21611         1600      2388     2.0           0     0  ...      8   \n",
      "21612         1020      1076     2.0           0     0  ...      7   \n",
      "\n",
      "       sqft_above  sqft_basement  yr_built  yr_renovated  zipcode      lat  \\\n",
      "21603        2270              0      2003             0    98065  47.5389   \n",
      "21604        1490              0      2014             0    98144  47.5699   \n",
      "21605        2520              0      2014             0    98056  47.5137   \n",
      "21606        2600            910      2009             0    98136  47.5537   \n",
      "21607        1180            130      2008             0    98116  47.5773   \n",
      "21608        1530              0      2009             0    98103  47.6993   \n",
      "21609        2310              0      2014             0    98146  47.5107   \n",
      "21610        1020              0      2009             0    98144  47.5944   \n",
      "21611        1600              0      2004             0    98027  47.5345   \n",
      "21612        1020              0      2008             0    98144  47.5941   \n",
      "\n",
      "          long  sqft_living15  sqft_lot15  \n",
      "21603 -121.881           2270        5731  \n",
      "21604 -122.288           1400        1230  \n",
      "21605 -122.167           2520        6023  \n",
      "21606 -122.398           2050        6200  \n",
      "21607 -122.409           1330        1265  \n",
      "21608 -122.346           1530        1509  \n",
      "21609 -122.362           1830        7200  \n",
      "21610 -122.299           1020        2007  \n",
      "21611 -122.069           1410        1287  \n",
      "21612 -122.299           1020        1357  \n",
      "\n",
      "[10 rows x 21 columns]\n",
      "*--------------------*\n",
      "Index(['id', 'date', 'price', 'bedrooms', 'bathrooms', 'sqft_living',\n",
      "       'sqft_lot', 'floors', 'waterfront', 'view', 'condition', 'grade',\n",
      "       'sqft_above', 'sqft_basement', 'yr_built', 'yr_renovated', 'zipcode',\n",
      "       'lat', 'long', 'sqft_living15', 'sqft_lot15'],\n",
      "      dtype='object')\n",
      "*--------------------*\n",
      "(21613, 21)\n",
      "*--------------------*\n"
     ]
    }
   ],
   "source": [
    "data = pd.read_csv('kc_house_data.csv')\n",
    "\n",
    "print_string(data.head(10))\n",
    "\n",
    "print_string(data.tail(10))\n",
    "\n",
    "print_string(data.columns)\n",
    "\n",
    "print_string(data.shape)"
   ],
   "metadata": {
    "collapsed": false,
    "pycharm": {
     "name": "#%%\n"
    }
   }
  },
  {
   "cell_type": "code",
   "execution_count": 4,
   "outputs": [
    {
     "name": "stdout",
     "output_type": "stream",
     "text": [
      "5    1225000.0\n",
      "Name: price, dtype: float64\n",
      "*--------------------*\n",
      "8    1960\n",
      "Name: yr_built, dtype: int64\n",
      "*--------------------*\n"
     ]
    }
   ],
   "source": [
    "# Observe top 10 observations (int)\n",
    "\n",
    "# Q1.1 What is the price of a house with `id` == 7237550310?\n",
    "# Q1.3 When was the house with `id` == 2414600126 built (`yr_built`)?\n",
    "\n",
    "print_string(data[data['id'] == 7237550310]['price'])\n",
    "\n",
    "print_string(data[data['id'] == 2414600126]['yr_built'])\n"
   ],
   "metadata": {
    "collapsed": false,
    "pycharm": {
     "name": "#%% 1,3\n"
    }
   }
  },
  {
   "cell_type": "code",
   "execution_count": 5,
   "outputs": [
    {
     "name": "stdout",
     "output_type": "stream",
     "text": [
      "21611    3\n",
      "Name: bedrooms, dtype: int64\n",
      "*--------------------*\n",
      "21607    2.0\n",
      "Name: floors, dtype: float64\n",
      "*--------------------*\n"
     ]
    }
   ],
   "source": [
    "# Observe last 10 observations (int)\n",
    "\n",
    "# Q2.2 How many bedrooms has a house with `id` == 291310100?\n",
    "# Q2.4 How many floors house with `id` == 2997800021 has?\n",
    "\n",
    "print_string(data[data['id'] == 291310100]['bedrooms'])\n",
    "\n",
    "print_string(data[data['id'] == 2997800021]['floors'])"
   ],
   "metadata": {
    "collapsed": false,
    "pycharm": {
     "name": "#%% 2,4\n"
    }
   }
  },
  {
   "cell_type": "code",
   "execution_count": 6,
   "outputs": [
    {
     "name": "stdout",
     "output_type": "stream",
     "text": [
      "           id             date      price  bedrooms  bathrooms  sqft_living  \\\n",
      "0  7129300520  20141013T000000   221900.0         3       1.00         1180   \n",
      "1  6414100192  20141209T000000   538000.0         3       2.25         2570   \n",
      "2  5631500400  20150225T000000   180000.0         2       1.00          770   \n",
      "3  2487200875  20141209T000000   604000.0         4       3.00         1960   \n",
      "4  1954400510  20150218T000000   510000.0         3       2.00         1680   \n",
      "5  7237550310  20140512T000000  1225000.0         4       4.50         5420   \n",
      "6  1321400060  20140627T000000   257500.0         3       2.25         1715   \n",
      "7  2008000270  20150115T000000   291850.0         3       1.50         1060   \n",
      "8  2414600126  20150415T000000   229500.0         3       1.00         1780   \n",
      "9  3793500160  20150312T000000   323000.0         3       2.50         1890   \n",
      "\n",
      "   sqft_lot  floors  waterfront  view  condition  grade  sqft_above  \\\n",
      "0      5650     1.0           0     0          3      7        1180   \n",
      "1      7242     2.0           0     0          3      7        2170   \n",
      "2     10000     1.0           0     0          3      6         770   \n",
      "3      5000     1.0           0     0          5      7        1050   \n",
      "4      8080     1.0           0     0          3      8        1680   \n",
      "5    101930     1.0           0     0          3     11        3890   \n",
      "6      6819     2.0           0     0          3      7        1715   \n",
      "7      9711     1.0           0     0          3      7        1060   \n",
      "8      7470     1.0           0     0          3      7        1050   \n",
      "9      6560     2.0           0     0          3      7        1890   \n",
      "\n",
      "   sqft_basement  yr_built  yr_renovated  zipcode      lat     long  \\\n",
      "0              0      1955             0    98178  47.5112 -122.257   \n",
      "1            400      1951          1991    98125  47.7210 -122.319   \n",
      "2              0      1933             0    98028  47.7379 -122.233   \n",
      "3            910      1965             0    98136  47.5208 -122.393   \n",
      "4              0      1987             0    98074  47.6168 -122.045   \n",
      "5           1530      2001             0    98053  47.6561 -122.005   \n",
      "6              0      1995             0    98003  47.3097 -122.327   \n",
      "7              0      1963             0    98198  47.4095 -122.315   \n",
      "8            730      1960             0    98146  47.5123 -122.337   \n",
      "9              0      2003             0    98038  47.3684 -122.031   \n",
      "\n",
      "   sqft_living15  sqft_lot15  \n",
      "0           1340        5650  \n",
      "1           1690        7639  \n",
      "2           2720        8062  \n",
      "3           1360        5000  \n",
      "4           1800        7503  \n",
      "5           4760      101930  \n",
      "6           2238        6819  \n",
      "7           1650        9711  \n",
      "8           1780        8113  \n",
      "9           2390        7570  \n",
      "*--------------------*\n"
     ]
    }
   ],
   "source": [
    "pd.options.display.max_columns = 30\n",
    "\n",
    "print_string(data.head(10))"
   ],
   "metadata": {
    "collapsed": false,
    "pycharm": {
     "name": "#%%\n"
    }
   }
  },
  {
   "cell_type": "code",
   "execution_count": 7,
   "outputs": [
    {
     "name": "stdout",
     "output_type": "stream",
     "text": [
      "2\n",
      "*--------------------*\n",
      "2\n",
      "*--------------------*\n"
     ]
    }
   ],
   "source": [
    "# Print all the columns/features names (int)\n",
    "\n",
    "# Q3.1 How many columns have `yr_` prefix?\n",
    "# Q3.4 How many columns have `rooms` in their names?\n",
    "\n",
    "yr_count = 0\n",
    "for name in data.columns:\n",
    "    if 'yr_' in name:\n",
    "        yr_count += 1\n",
    "print_string(yr_count)\n",
    "\n",
    "rooms_count = 0\n",
    "for name in data.columns:\n",
    "    if 'rooms' in name:\n",
    "        rooms_count += 1\n",
    "print_string(rooms_count)\n",
    "\n"
   ],
   "metadata": {
    "collapsed": false,
    "pycharm": {
     "name": "#%% \t1,4\n"
    }
   }
  },
  {
   "cell_type": "code",
   "execution_count": 8,
   "outputs": [
    {
     "name": "stdout",
     "output_type": "stream",
     "text": [
      "21613\n",
      "*--------------------*\n",
      "21\n",
      "*--------------------*\n"
     ]
    }
   ],
   "source": [
    "# Print data size (int)\n",
    "\n",
    "# Q4.1 How many observations are in the data?\n",
    "# Q4.2 How many features are in the data?\n",
    "\n",
    "print_string(data.shape[0])\n",
    "\n",
    "print_string(data.shape[1])"
   ],
   "metadata": {
    "collapsed": false,
    "pycharm": {
     "name": "#%%\t1,2\n"
    }
   }
  },
  {
   "cell_type": "code",
   "execution_count": 9,
   "outputs": [
    {
     "name": "stdout",
     "output_type": "stream",
     "text": [
      "0\n",
      "*--------------------*\n",
      "0\n",
      "*--------------------*\n",
      "0\n",
      "*--------------------*\n",
      "0\n",
      "*--------------------*\n",
      "0\n",
      "*--------------------*\n",
      "0\n",
      "*--------------------*\n",
      "0\n",
      "*--------------------*\n",
      "0\n",
      "*--------------------*\n",
      "0\n",
      "*--------------------*\n",
      "0\n",
      "*--------------------*\n",
      "0\n",
      "*--------------------*\n",
      "0\n",
      "*--------------------*\n",
      "0\n",
      "*--------------------*\n",
      "0\n",
      "*--------------------*\n",
      "0\n",
      "*--------------------*\n",
      "0\n",
      "*--------------------*\n",
      "0\n",
      "*--------------------*\n",
      "0\n",
      "*--------------------*\n",
      "0\n",
      "*--------------------*\n",
      "0\n",
      "*--------------------*\n",
      "0\n",
      "*--------------------*\n",
      "0\n",
      "*--------------------*\n",
      "0\n",
      "*--------------------*\n"
     ]
    }
   ],
   "source": [
    "# Display number of not NaN's in every column (int)\n",
    "\n",
    "# Q5.2 How many NA values are in the `grade` column?\n",
    "# Q5.3 How many NA values are in the `bedrooms` column?\n",
    "\n",
    "print_string(data['grade'].isna().sum())\n",
    "\n",
    "print_string(data.shape[0] - data['bedrooms'].count())\n",
    "\n",
    "for name in data.columns:\n",
    "    print_string(data[name].isna().sum())"
   ],
   "metadata": {
    "collapsed": false,
    "pycharm": {
     "name": "#%% 2,3\n"
    }
   }
  },
  {
   "cell_type": "code",
   "execution_count": 10,
   "outputs": [
    {
     "name": "stdout",
     "output_type": "stream",
     "text": [
      "12\n",
      "*--------------------*\n",
      "70\n",
      "*--------------------*\n"
     ]
    }
   ],
   "source": [
    "# Count number of unique values in every column (int)\n",
    "\n",
    "# Q6.2 How many unique values are in the `grade` column?\n",
    "# Q6.3 How many unique values are in the `yr_renovated` column?\n",
    "\n",
    "print_string(data['grade'].nunique())\n",
    "\n",
    "print_string(data['yr_renovated'].nunique())"
   ],
   "metadata": {
    "collapsed": false,
    "pycharm": {
     "name": "#%% 3,2\n"
    }
   }
  },
  {
   "cell_type": "code",
   "execution_count": 11,
   "outputs": [
    {
     "name": "stdout",
     "output_type": "stream",
     "text": [
      "7     8981\n",
      "8     6068\n",
      "9     2615\n",
      "6     2038\n",
      "10    1134\n",
      "11     399\n",
      "5      242\n",
      "12      90\n",
      "4       29\n",
      "13      13\n",
      "3        3\n",
      "1        1\n",
      "Name: grade, dtype: int64\n",
      "*--------------------*\n",
      "8981,6068,2615,2038,1134,399,242,90,29,13,3,1,\n",
      "*--------------------*\n",
      "3     9824\n",
      "4     6882\n",
      "2     2760\n",
      "5     1601\n",
      "6      272\n",
      "1      199\n",
      "7       38\n",
      "8       13\n",
      "0       13\n",
      "9        6\n",
      "10       3\n",
      "11       1\n",
      "33       1\n",
      "Name: bedrooms, dtype: int64\n",
      "*--------------------*\n",
      "9824,6882,2760,1601,272,199,38,13,13,6,3,1,1,\n",
      "*--------------------*\n"
     ]
    }
   ],
   "source": [
    "# Count frequency of the values in different columns (list of ints in !!!descending!!! order)\n",
    "# You could select a column using same syntax as for selecting a key from a dictionary: `data[colname]`\n",
    "\n",
    "# Q7.2 For every unique `condition` value give its number of occurences.\n",
    "# Q7.3 For every unique `bedrooms` value give its number of occurences.\n",
    "\n",
    "occ_str = ''\n",
    "occ = data['grade'].value_counts()\n",
    "for s in occ:\n",
    "    occ_str += str(s) + ','\n",
    "\n",
    "print_string(occ)\n",
    "print_string(occ_str)\n",
    "\n",
    "occ_str = ''\n",
    "occ = data['bedrooms'].value_counts()\n",
    "for s in occ:\n",
    "    occ_str += str(s) + ','\n",
    "\n",
    "print_string(occ)\n",
    "print_string(occ_str)"
   ],
   "metadata": {
    "collapsed": false,
    "pycharm": {
     "name": "#%% 2,3\n"
    }
   }
  },
  {
   "cell_type": "code",
   "execution_count": 12,
   "outputs": [
    {
     "data": {
      "text/plain": "                 id         price      bedrooms     bathrooms   sqft_living  \\\ncount  2.161300e+04  2.161300e+04  21613.000000  21613.000000  21613.000000   \nmean   4.580302e+09  5.400881e+05      3.370842      2.114757   2079.899736   \nstd    2.876566e+09  3.671272e+05      0.930062      0.770163    918.440897   \nmin    1.000102e+06  7.500000e+04      0.000000      0.000000    290.000000   \n25%    2.123049e+09  3.219500e+05      3.000000      1.750000   1427.000000   \n50%    3.904930e+09  4.500000e+05      3.000000      2.250000   1910.000000   \n75%    7.308900e+09  6.450000e+05      4.000000      2.500000   2550.000000   \nmax    9.900000e+09  7.700000e+06     33.000000      8.000000  13540.000000   \n\n           sqft_lot        floors    waterfront          view     condition  \\\ncount  2.161300e+04  21613.000000  21613.000000  21613.000000  21613.000000   \nmean   1.510697e+04      1.494309      0.007542      0.234303      3.409430   \nstd    4.142051e+04      0.539989      0.086517      0.766318      0.650743   \nmin    5.200000e+02      1.000000      0.000000      0.000000      1.000000   \n25%    5.040000e+03      1.000000      0.000000      0.000000      3.000000   \n50%    7.618000e+03      1.500000      0.000000      0.000000      3.000000   \n75%    1.068800e+04      2.000000      0.000000      0.000000      4.000000   \nmax    1.651359e+06      3.500000      1.000000      4.000000      5.000000   \n\n              grade    sqft_above  sqft_basement      yr_built  yr_renovated  \\\ncount  21613.000000  21613.000000   21613.000000  21613.000000  21613.000000   \nmean       7.656873   1788.390691     291.509045   1971.005136     84.402258   \nstd        1.175459    828.090978     442.575043     29.373411    401.679240   \nmin        1.000000    290.000000       0.000000   1900.000000      0.000000   \n25%        7.000000   1190.000000       0.000000   1951.000000      0.000000   \n50%        7.000000   1560.000000       0.000000   1975.000000      0.000000   \n75%        8.000000   2210.000000     560.000000   1997.000000      0.000000   \nmax       13.000000   9410.000000    4820.000000   2015.000000   2015.000000   \n\n            zipcode           lat          long  sqft_living15     sqft_lot15  \ncount  21613.000000  21613.000000  21613.000000   21613.000000   21613.000000  \nmean   98077.939805     47.560053   -122.213896    1986.552492   12768.455652  \nstd       53.505026      0.138564      0.140828     685.391304   27304.179631  \nmin    98001.000000     47.155900   -122.519000     399.000000     651.000000  \n25%    98033.000000     47.471000   -122.328000    1490.000000    5100.000000  \n50%    98065.000000     47.571800   -122.230000    1840.000000    7620.000000  \n75%    98118.000000     47.678000   -122.125000    2360.000000   10083.000000  \nmax    98199.000000     47.777600   -121.315000    6210.000000  871200.000000  ",
      "text/html": "<div>\n<style scoped>\n    .dataframe tbody tr th:only-of-type {\n        vertical-align: middle;\n    }\n\n    .dataframe tbody tr th {\n        vertical-align: top;\n    }\n\n    .dataframe thead th {\n        text-align: right;\n    }\n</style>\n<table border=\"1\" class=\"dataframe\">\n  <thead>\n    <tr style=\"text-align: right;\">\n      <th></th>\n      <th>id</th>\n      <th>price</th>\n      <th>bedrooms</th>\n      <th>bathrooms</th>\n      <th>sqft_living</th>\n      <th>sqft_lot</th>\n      <th>floors</th>\n      <th>waterfront</th>\n      <th>view</th>\n      <th>condition</th>\n      <th>grade</th>\n      <th>sqft_above</th>\n      <th>sqft_basement</th>\n      <th>yr_built</th>\n      <th>yr_renovated</th>\n      <th>zipcode</th>\n      <th>lat</th>\n      <th>long</th>\n      <th>sqft_living15</th>\n      <th>sqft_lot15</th>\n    </tr>\n  </thead>\n  <tbody>\n    <tr>\n      <th>count</th>\n      <td>2.161300e+04</td>\n      <td>2.161300e+04</td>\n      <td>21613.000000</td>\n      <td>21613.000000</td>\n      <td>21613.000000</td>\n      <td>2.161300e+04</td>\n      <td>21613.000000</td>\n      <td>21613.000000</td>\n      <td>21613.000000</td>\n      <td>21613.000000</td>\n      <td>21613.000000</td>\n      <td>21613.000000</td>\n      <td>21613.000000</td>\n      <td>21613.000000</td>\n      <td>21613.000000</td>\n      <td>21613.000000</td>\n      <td>21613.000000</td>\n      <td>21613.000000</td>\n      <td>21613.000000</td>\n      <td>21613.000000</td>\n    </tr>\n    <tr>\n      <th>mean</th>\n      <td>4.580302e+09</td>\n      <td>5.400881e+05</td>\n      <td>3.370842</td>\n      <td>2.114757</td>\n      <td>2079.899736</td>\n      <td>1.510697e+04</td>\n      <td>1.494309</td>\n      <td>0.007542</td>\n      <td>0.234303</td>\n      <td>3.409430</td>\n      <td>7.656873</td>\n      <td>1788.390691</td>\n      <td>291.509045</td>\n      <td>1971.005136</td>\n      <td>84.402258</td>\n      <td>98077.939805</td>\n      <td>47.560053</td>\n      <td>-122.213896</td>\n      <td>1986.552492</td>\n      <td>12768.455652</td>\n    </tr>\n    <tr>\n      <th>std</th>\n      <td>2.876566e+09</td>\n      <td>3.671272e+05</td>\n      <td>0.930062</td>\n      <td>0.770163</td>\n      <td>918.440897</td>\n      <td>4.142051e+04</td>\n      <td>0.539989</td>\n      <td>0.086517</td>\n      <td>0.766318</td>\n      <td>0.650743</td>\n      <td>1.175459</td>\n      <td>828.090978</td>\n      <td>442.575043</td>\n      <td>29.373411</td>\n      <td>401.679240</td>\n      <td>53.505026</td>\n      <td>0.138564</td>\n      <td>0.140828</td>\n      <td>685.391304</td>\n      <td>27304.179631</td>\n    </tr>\n    <tr>\n      <th>min</th>\n      <td>1.000102e+06</td>\n      <td>7.500000e+04</td>\n      <td>0.000000</td>\n      <td>0.000000</td>\n      <td>290.000000</td>\n      <td>5.200000e+02</td>\n      <td>1.000000</td>\n      <td>0.000000</td>\n      <td>0.000000</td>\n      <td>1.000000</td>\n      <td>1.000000</td>\n      <td>290.000000</td>\n      <td>0.000000</td>\n      <td>1900.000000</td>\n      <td>0.000000</td>\n      <td>98001.000000</td>\n      <td>47.155900</td>\n      <td>-122.519000</td>\n      <td>399.000000</td>\n      <td>651.000000</td>\n    </tr>\n    <tr>\n      <th>25%</th>\n      <td>2.123049e+09</td>\n      <td>3.219500e+05</td>\n      <td>3.000000</td>\n      <td>1.750000</td>\n      <td>1427.000000</td>\n      <td>5.040000e+03</td>\n      <td>1.000000</td>\n      <td>0.000000</td>\n      <td>0.000000</td>\n      <td>3.000000</td>\n      <td>7.000000</td>\n      <td>1190.000000</td>\n      <td>0.000000</td>\n      <td>1951.000000</td>\n      <td>0.000000</td>\n      <td>98033.000000</td>\n      <td>47.471000</td>\n      <td>-122.328000</td>\n      <td>1490.000000</td>\n      <td>5100.000000</td>\n    </tr>\n    <tr>\n      <th>50%</th>\n      <td>3.904930e+09</td>\n      <td>4.500000e+05</td>\n      <td>3.000000</td>\n      <td>2.250000</td>\n      <td>1910.000000</td>\n      <td>7.618000e+03</td>\n      <td>1.500000</td>\n      <td>0.000000</td>\n      <td>0.000000</td>\n      <td>3.000000</td>\n      <td>7.000000</td>\n      <td>1560.000000</td>\n      <td>0.000000</td>\n      <td>1975.000000</td>\n      <td>0.000000</td>\n      <td>98065.000000</td>\n      <td>47.571800</td>\n      <td>-122.230000</td>\n      <td>1840.000000</td>\n      <td>7620.000000</td>\n    </tr>\n    <tr>\n      <th>75%</th>\n      <td>7.308900e+09</td>\n      <td>6.450000e+05</td>\n      <td>4.000000</td>\n      <td>2.500000</td>\n      <td>2550.000000</td>\n      <td>1.068800e+04</td>\n      <td>2.000000</td>\n      <td>0.000000</td>\n      <td>0.000000</td>\n      <td>4.000000</td>\n      <td>8.000000</td>\n      <td>2210.000000</td>\n      <td>560.000000</td>\n      <td>1997.000000</td>\n      <td>0.000000</td>\n      <td>98118.000000</td>\n      <td>47.678000</td>\n      <td>-122.125000</td>\n      <td>2360.000000</td>\n      <td>10083.000000</td>\n    </tr>\n    <tr>\n      <th>max</th>\n      <td>9.900000e+09</td>\n      <td>7.700000e+06</td>\n      <td>33.000000</td>\n      <td>8.000000</td>\n      <td>13540.000000</td>\n      <td>1.651359e+06</td>\n      <td>3.500000</td>\n      <td>1.000000</td>\n      <td>4.000000</td>\n      <td>5.000000</td>\n      <td>13.000000</td>\n      <td>9410.000000</td>\n      <td>4820.000000</td>\n      <td>2015.000000</td>\n      <td>2015.000000</td>\n      <td>98199.000000</td>\n      <td>47.777600</td>\n      <td>-121.315000</td>\n      <td>6210.000000</td>\n      <td>871200.000000</td>\n    </tr>\n  </tbody>\n</table>\n</div>"
     },
     "execution_count": 12,
     "metadata": {},
     "output_type": "execute_result"
    }
   ],
   "source": [
    "data.describe()"
   ],
   "metadata": {
    "collapsed": false,
    "pycharm": {
     "name": "#%%\n"
    }
   }
  },
  {
   "cell_type": "code",
   "execution_count": 13,
   "outputs": [
    {
     "name": "stdout",
     "output_type": "stream",
     "text": [
      "13540,2079.9,918.441,290,\n",
      "*--------------------*\n",
      "7700000.0,540088.142,367127.196,75000.0,\n",
      "*--------------------*\n"
     ]
    }
   ],
   "source": [
    "# Display some column statistics (list of floats, rounded up to 3 digits, e.g. 1.234)\n",
    "\n",
    "# Q8.3 What are the max, min, mean and the std of the `sqft_living` column?\n",
    "# Q8.4 What are the max, min, mean and the std of the `pRice` column?\n",
    "\n",
    "des = data['sqft_living']\n",
    "res = [des.max().round(3), des.min().round(3), des.mean().round(3), des.std().round(3)]\n",
    "des_str = ''\n",
    "for r in sorted(res, reverse=True):\n",
    "    des_str += str(r) + ','\n",
    "print_string(des_str)\n",
    "\n",
    "\n",
    "des = data['price']\n",
    "res = [des.max().round(3), des.min().round(3), des.mean().round(3), des.std().round(3)]\n",
    "des_str = ''\n",
    "for r in sorted(res, reverse=True):\n",
    "    des_str += str(r) + ','\n",
    "print_string(des_str)"
   ],
   "metadata": {
    "collapsed": false,
    "pycharm": {
     "name": "#%% 4,3\n"
    }
   }
  },
  {
   "cell_type": "code",
   "execution_count": 14,
   "outputs": [
    {
     "name": "stdout",
     "output_type": "stream",
     "text": [
      "15\n",
      "*--------------------*\n",
      "bedrooms,condition,grade,id,sqft_above,sqft_basement,sqft_living,sqft_living15,sqft_lot,sqft_lot15,view,waterfront,yr_built,yr_renovated,zipcode,\n",
      "*--------------------*\n"
     ]
    }
   ],
   "source": [
    "# Display data types of all columns (int)\n",
    "\n",
    "# Q9.2 How many columns have `int64` data type?\n",
    "# Q9.5 What are the columns with dtype == `int64`?\n",
    "\n",
    "print_string((data.dtypes == 'int64').sum())\n",
    "\n",
    "col = data.columns[(data.dtypes == 'int64')].sort_values()\n",
    "col_string = ''\n",
    "for c in col:\n",
    "    col_string += c + ','\n",
    "print_string(col_string)"
   ],
   "metadata": {
    "collapsed": false,
    "pycharm": {
     "name": "#%% 2,5\n"
    }
   }
  },
  {
   "cell_type": "code",
   "execution_count": 15,
   "outputs": [],
   "source": [
    "data.index = data.id\n",
    "data.drop('id', axis=1, inplace=True)\n",
    "data.sort_index(inplace=True)"
   ],
   "metadata": {
    "collapsed": false,
    "pycharm": {
     "name": "#%%\n"
    }
   }
  },
  {
   "cell_type": "code",
   "execution_count": 16,
   "outputs": [
    {
     "name": "stdout",
     "output_type": "stream",
     "text": [
      "3\n",
      "*--------------------*\n",
      "7\n",
      "*--------------------*\n"
     ]
    }
   ],
   "source": [
    "# Select rows by position (int)\n",
    "\n",
    "# Q10.1 How many bedrooms have a house on row 777?\n",
    "# Q10.5 What is the grade of a house on row 2718?\n",
    "\n",
    "print_string(data.iloc[777]['bedrooms'])\n",
    "\n",
    "print_string(data.iloc[2718]['grade'])\n"
   ],
   "metadata": {
    "collapsed": false,
    "pycharm": {
     "name": "#%% 5,1\n"
    }
   }
  },
  {
   "cell_type": "code",
   "execution_count": 17,
   "outputs": [
    {
     "name": "stdout",
     "output_type": "stream",
     "text": [
      "2\n",
      "*--------------------*\n",
      "365000.0\n",
      "*--------------------*\n"
     ]
    }
   ],
   "source": [
    "# Select rows by index (int)\n",
    "\n",
    "# Q11.1 How many times the house with index 1000102 were sold?\n",
    "# Q11.2 What is the price of the house with index 9842300095?\n",
    "\n",
    "print_string(data.loc[1000102].shape[0])\n",
    "\n",
    "print_string(data.loc[9842300095]['price'])\n"
   ],
   "metadata": {
    "collapsed": false,
    "pycharm": {
     "name": "#%% 2,1\n"
    }
   }
  },
  {
   "cell_type": "code",
   "execution_count": 18,
   "outputs": [
    {
     "name": "stdout",
     "output_type": "stream",
     "text": [
      "13\n",
      "*--------------------*\n",
      "8\n",
      "*--------------------*\n"
     ]
    }
   ],
   "source": [
    "# Using mask or .query syntax select rows/columns (int)\n",
    "\n",
    "# Q12.3 How many houses are with the highest possible grade?\n",
    "# Q12.5 How many houses were sold for 256000 dollars?\n",
    "\n",
    "print_string(data[data['grade'] == data[\"grade\"].max()].shape[0])\n",
    "\n",
    "print_string(data[data['price'] == 256000].shape[0])\n"
   ],
   "metadata": {
    "collapsed": false,
    "pycharm": {
     "name": "#%% 5,3\n"
    }
   }
  },
  {
   "cell_type": "code",
   "execution_count": 19,
   "outputs": [
    {
     "name": "stdout",
     "output_type": "stream",
     "text": [
      "6\n",
      "*--------------------*\n",
      "1153\n",
      "*--------------------*\n"
     ]
    }
   ],
   "source": [
    "# Using mask or .query syntax select rows/columns (int)\n",
    "\n",
    "# Q13.1 How many houses with the waterfront (=1) were built during Nixon's presidency (1969—1974)? Including both start and end year.\n",
    "# Q13.2 How many houses, built before first human in space (<1961), have high condition (=5)?\n",
    "\n",
    "print_string(data[(data['waterfront'] == 1) & (data['yr_built'] >= 1969) & (data['yr_built'] <= 1974)].shape[0])\n",
    "\n",
    "print_string(data[(data['condition'] == 5) & (data['yr_built'] < 1961)].shape[0])"
   ],
   "metadata": {
    "collapsed": false,
    "pycharm": {
     "name": "#%% 1,2\n"
    }
   }
  },
  {
   "cell_type": "code",
   "execution_count": 20,
   "outputs": [
    {
     "name": "stdout",
     "output_type": "stream",
     "text": [
      "3.25\n",
      "*--------------------*\n",
      "7.0\n",
      "*--------------------*\n"
     ]
    }
   ],
   "source": [
    "# Using mask or .query syntax select rows/columns and compute simple statistics (float)\n",
    "\n",
    "# Q14.4 What is the median number of bathrooms in houses with grade above 9 (10 and more)?\n",
    "# Q14.5 What is the median grade of houses with most popular zipcode value?\n",
    "\n",
    "print_string(data[data['grade'] > 9]['bathrooms'].median())\n",
    "\n",
    "print_string(data[data['zipcode'] == data['zipcode'].value_counts().index[0]]['grade'].median())\n",
    "\n"
   ],
   "metadata": {
    "collapsed": false,
    "pycharm": {
     "name": "#%% 5,4\n"
    }
   }
  },
  {
   "cell_type": "code",
   "execution_count": 21,
   "outputs": [
    {
     "name": "stdout",
     "output_type": "stream",
     "text": [
      "id\n",
      "1000102       False\n",
      "1000102       False\n",
      "1200019       False\n",
      "1200021       False\n",
      "2800031       False\n",
      "              ...  \n",
      "9842300095    False\n",
      "9842300485    False\n",
      "9842300540    False\n",
      "9895000040    False\n",
      "9900000190    False\n",
      "Name: was_renovated, Length: 21613, dtype: bool\n"
     ]
    }
   ],
   "source": [
    "# Create `was_renovated` column. Bool column (0, 1) indicating whether the house was renovated.\n",
    "\n",
    "data['was_renovated'] = data['yr_renovated'] > 0\n",
    "print(data['was_renovated'])"
   ],
   "metadata": {
    "collapsed": false,
    "pycharm": {
     "name": "#%%\n"
    }
   }
  },
  {
   "cell_type": "code",
   "execution_count": 21,
   "outputs": [],
   "source": [],
   "metadata": {
    "collapsed": false,
    "pycharm": {
     "name": "#%%\n"
    }
   }
  },
  {
   "cell_type": "code",
   "execution_count": 22,
   "outputs": [
    {
     "name": "stdout",
     "output_type": "stream",
     "text": [
      "id\n",
      "1000102       23549\n",
      "1000102       23549\n",
      "1200019       54637\n",
      "1200021       68193\n",
      "2800031       22069\n",
      "              ...  \n",
      "9842300095    12726\n",
      "9842300485    16532\n",
      "9842300540    12376\n",
      "9895000040     6453\n",
      "9900000190    19840\n",
      "Name: sqft_tot_area, Length: 21613, dtype: int64\n",
      "*--------------------*\n",
      "id\n",
      "1000102       2187.773689\n",
      "1000102       2187.773689\n",
      "1200019       5075.943396\n",
      "1200021       6335.337007\n",
      "2800031       2050.277190\n",
      "                 ...     \n",
      "9842300095    1182.284087\n",
      "9842300485    1535.873057\n",
      "9842300540    1149.768023\n",
      "9895000040     599.503317\n",
      "9900000190    1843.196314\n",
      "Name: sqm_tot_area, Length: 21613, dtype: float64\n",
      "*--------------------*\n",
      "id\n",
      "1000102       1093.886844\n",
      "1000102       1093.886844\n",
      "1200019       5075.943396\n",
      "1200021       6335.337007\n",
      "2800031       1366.851460\n",
      "                 ...     \n",
      "9842300095     788.189391\n",
      "9842300485    1535.873057\n",
      "9842300540    1149.768023\n",
      "9895000040     399.668878\n",
      "9900000190    1843.196314\n",
      "Name: sqm_aver_floor_area, Length: 21613, dtype: float64\n",
      "*--------------------*\n",
      "id\n",
      "1000102       2.0\n",
      "1000102       1.0\n",
      "1200019       4.0\n",
      "1200021       3.0\n",
      "2800031       1.0\n",
      "             ... \n",
      "9842300095    2.0\n",
      "9842300485    2.0\n",
      "9842300540    2.0\n",
      "9895000040    3.0\n",
      "9900000190    1.0\n",
      "Name: price_cat, Length: 21613, dtype: float64\n",
      "id\n",
      "1000102       False\n",
      "1000102       False\n",
      "1200019       False\n",
      "1200021       False\n",
      "2800031       False\n",
      "              ...  \n",
      "9842300095    False\n",
      "9842300485    False\n",
      "9842300540    False\n",
      "9895000040    False\n",
      "9900000190    False\n",
      "Name: high_class, Length: 21613, dtype: bool\n"
     ]
    }
   ],
   "source": [
    "# Create new columns using the old ones (new column in your DataFrame)\n",
    "\n",
    "# Q15.1 Create a `sqft_tot_area` column (sum of all columns with `sqft_` prefix) using any method above\n",
    "# Q15.2 Create a new column `sqm_tot_area` using `sqft_tot_area` and the fact that 1 foot = 0.3048 meters\n",
    "# Q15.3 Create a new column `sqm_aver_floor_area` by dividing total area (in meters) by number of floors\n",
    "# Q15.4 Create a new column `price_cat` by splitting a `price` into 5 ([1..5]) distinct intervals: 0 < x <=20%,\n",
    "# 20% < x <= 40%, ... 80% < x <= 100% percentiles. You could use `.quantile()` to compute percentiles.\n",
    "# Q15.5 Create a new bool column `high_class` it is True if the house has grade >= 9 and condition >= 4\n",
    "\n",
    "data['sqft_tot_area'] = data['sqft_living'] + data['sqft_above'] + data['sqft_basement'] + data['sqft_living15'] + data['sqft_lot'] + data['sqft_lot15']\n",
    "print_string(data['sqft_tot_area'])\n",
    "\n",
    "\n",
    "sft = 0.3048 ** 2\n",
    "data['sqm_tot_area'] = data['sqft_tot_area'] * sft\n",
    "print_string(data['sqm_tot_area'])\n",
    "\n",
    "\n",
    "data['sqm_aver_floor_area'] = data['sqm_tot_area'] / data['floors']\n",
    "print_string(data['sqm_aver_floor_area'])\n",
    "\n",
    "\n",
    "quant = data['price'].quantile([.2, .4, .6, .8, 1])\n",
    "def trans(x):\n",
    "    for i, q in enumerate(quant):\n",
    "        if x < q:\n",
    "            return i + 1\n",
    "data['price_cat'] = data['price'].apply(trans)\n",
    "print(data['price_cat'])\n",
    "\n",
    "\n",
    "data['high_class'] = (data['grade'] >= 9) & (data['condition'] >= 4)\n",
    "print(data['high_class'])\n"
   ],
   "metadata": {
    "collapsed": false,
    "pycharm": {
     "name": "#%% 1,2,3,4,5\n"
    }
   }
  },
  {
   "cell_type": "code",
   "execution_count": 23,
   "outputs": [
    {
     "name": "stdout",
     "output_type": "stream",
     "text": [
      "3.0\n",
      "*--------------------*\n",
      "98023\n",
      "*--------------------*\n"
     ]
    }
   ],
   "source": [
    "# Using mask or .query syntax select rows/columns (float)\n",
    "\n",
    "# Q16.3 What is the maximal number of floors amongst houses with the lowest price category?\n",
    "# Q16.4 What is the most frequent zipcode amongst houses with the lowest price category?\n",
    "\n",
    "print_string(data[data['price_cat'] == 1]['floors'].max())\n",
    "print_string(data[data['price_cat'] == 1]['zipcode'].value_counts().index[0])\n"
   ],
   "metadata": {
    "collapsed": false,
    "pycharm": {
     "name": "#%% 3,4\n"
    }
   }
  },
  {
   "cell_type": "code",
   "execution_count": 24,
   "outputs": [
    {
     "name": "stdout",
     "output_type": "stream",
     "text": [
      "id\n",
      "1000102      2015-04-22\n",
      "1000102      2014-09-16\n",
      "1200019      2014-05-08\n",
      "1200021      2014-08-11\n",
      "2800031      2015-04-01\n",
      "                ...    \n",
      "9842300095   2014-07-25\n",
      "9842300485   2015-03-11\n",
      "9842300540   2014-06-24\n",
      "9895000040   2014-07-03\n",
      "9900000190   2014-10-30\n",
      "Name: date, Length: 21613, dtype: datetime64[ns]\n",
      "*--------------------*\n",
      "id\n",
      "1000102       2015\n",
      "1000102       2014\n",
      "1200019       2014\n",
      "1200021       2014\n",
      "2800031       2015\n",
      "              ... \n",
      "9842300095    2014\n",
      "9842300485    2015\n",
      "9842300540    2014\n",
      "9895000040    2014\n",
      "9900000190    2014\n",
      "Name: year, Length: 21613, dtype: int64\n",
      "*--------------------*\n",
      "id\n",
      "1000102        4\n",
      "1000102        9\n",
      "1200019        5\n",
      "1200021        8\n",
      "2800031        4\n",
      "              ..\n",
      "9842300095     7\n",
      "9842300485     3\n",
      "9842300540     6\n",
      "9895000040     7\n",
      "9900000190    10\n",
      "Name: month, Length: 21613, dtype: int64\n",
      "*--------------------*\n",
      "id\n",
      "1000102       22\n",
      "1000102       16\n",
      "1200019        8\n",
      "1200021       11\n",
      "2800031        1\n",
      "              ..\n",
      "9842300095    25\n",
      "9842300485    11\n",
      "9842300540    24\n",
      "9895000040     3\n",
      "9900000190    30\n",
      "Name: day, Length: 21613, dtype: int64\n",
      "*--------------------*\n",
      "id\n",
      "1000102       3\n",
      "1000102       2\n",
      "1200019       4\n",
      "1200021       1\n",
      "2800031       3\n",
      "             ..\n",
      "9842300095    5\n",
      "9842300485    3\n",
      "9842300540    2\n",
      "9895000040    4\n",
      "9900000190    4\n",
      "Name: weekday, Length: 21613, dtype: int64\n",
      "*--------------------*\n",
      "id\n",
      "1000102       2\n",
      "1000102       2\n",
      "1200019       6\n",
      "1200021       6\n",
      "2800031       8\n",
      "             ..\n",
      "9842300095    8\n",
      "9842300485    7\n",
      "9842300540    7\n",
      "9895000040    0\n",
      "9900000190    7\n",
      "Name: house_age_10, Length: 21613, dtype: int64\n",
      "*--------------------*\n"
     ]
    }
   ],
   "source": [
    "# Create new columns based on `date` column\n",
    "\n",
    "# Q17.1 Convert date to datetime format\n",
    "# Q17.2 Extract and store `year`\n",
    "# Q17.3 Extract and store `month`\n",
    "# Q17.4 Extract and store `day`\n",
    "# Q17.5 Extract and store `weekday`\n",
    "# Q17.6 Create a new column `house_age_10` - the age of the house in full decades (e.g. 9 year old house - 0, 21 year old house - 2),\n",
    "# using `yr_built` and 'year' columns\n",
    "\n",
    "data['date'] = pd.to_datetime(data['date'])\n",
    "print_string(data['date'])\n",
    "\n",
    "data['year'] = data['date'].dt.year\n",
    "print_string(data['year'])\n",
    "\n",
    "data['month'] = data['date'].dt.month\n",
    "print_string(data['month'])\n",
    "\n",
    "data['day'] = data['date'].dt.day\n",
    "print_string(data['day'])\n",
    "\n",
    "data['weekday'] = ((data['date'].dt.weekday + 1) % 7)\n",
    "print_string(data['weekday'])\n",
    "# monday = 0, sunday = 6 - wrong...\n",
    "# sunday = 0, ???\n",
    "\n",
    "data['house_age_10'] = (data['year'] - data['yr_built']) // 10\n",
    "print_string(data['house_age_10'])\n",
    "\n"
   ],
   "metadata": {
    "collapsed": false,
    "pycharm": {
     "name": "#%% 1,2,3,4,5,6\n"
    }
   }
  },
  {
   "cell_type": "code",
   "execution_count": 25,
   "outputs": [
    {
     "data": {
      "text/plain": "0"
     },
     "execution_count": 25,
     "metadata": {},
     "output_type": "execute_result"
    }
   ],
   "source": [
    "import datetime\n",
    "datetime.date(2020, 9, 14).weekday()"
   ],
   "metadata": {
    "collapsed": false,
    "pycharm": {
     "name": "#%%\n"
    }
   }
  },
  {
   "cell_type": "code",
   "execution_count": 26,
   "outputs": [],
   "source": [
    "data.drop('date', axis=1, inplace=True)"
   ],
   "metadata": {
    "collapsed": false,
    "pycharm": {
     "name": "#%%\n"
    }
   }
  },
  {
   "cell_type": "code",
   "execution_count": 27,
   "outputs": [
    {
     "name": "stdout",
     "output_type": "stream",
     "text": [
      "2    4715\n",
      "3    4603\n",
      "1    4099\n",
      "4    3994\n",
      "5    3685\n",
      "6     287\n",
      "0     230\n",
      "Name: weekday, dtype: int64\n",
      "*--------------------*\n",
      "2\n",
      "*--------------------*\n",
      "0\n",
      "*--------------------*\n"
     ]
    }
   ],
   "source": [
    "# Find some date related information from the data (int)\n",
    "\n",
    "# Q18.1 What is the most popular selling weekday?\n",
    "# Q18.3 What is the least popular selling weekday?\n",
    "\n",
    "freq = data['weekday'].value_counts()\n",
    "\n",
    "print_string(freq)\n",
    "\n",
    "print_string(freq.index[0])\n",
    "\n",
    "print_string(freq.index[freq.size - 1])"
   ],
   "metadata": {
    "collapsed": false,
    "pycharm": {
     "name": "#%% 1,3\n"
    }
   }
  },
  {
   "cell_type": "code",
   "execution_count": 28,
   "outputs": [
    {
     "name": "stdout",
     "output_type": "stream",
     "text": [
      "id\n",
      "1000102       440000.0\n",
      "1000102       440000.0\n",
      "1200019       440000.0\n",
      "1200021       440000.0\n",
      "2800031       440000.0\n",
      "                ...   \n",
      "9842300095    440000.0\n",
      "9842300485    440000.0\n",
      "9842300540    440000.0\n",
      "9895000040    440000.0\n",
      "9900000190    440000.0\n",
      "Name: price_by_class, Length: 21613, dtype: float64\n",
      "*--------------------*\n",
      "id\n",
      "1000102       2014\n",
      "1000102       2014\n",
      "1200019       2014\n",
      "1200021       2014\n",
      "2800031       2015\n",
      "              ... \n",
      "9842300095    2014\n",
      "9842300485    2015\n",
      "9842300540    2014\n",
      "9895000040    2014\n",
      "9900000190    2014\n",
      "Name: yr_first, Length: 21613, dtype: int64\n",
      "id\n",
      "1000102       23.588157\n",
      "1000102       23.588157\n",
      "1200019       53.925281\n",
      "1200021       53.925281\n",
      "2800031       79.194764\n",
      "                ...    \n",
      "9842300095    79.194764\n",
      "9842300485    53.925281\n",
      "9842300540    53.925281\n",
      "9895000040    79.194764\n",
      "9900000190    53.925281\n",
      "Name: floors_by_age, Length: 21613, dtype: float64\n",
      "*--------------------*\n"
     ]
    }
   ],
   "source": [
    "# Create some groupby features\n",
    "\n",
    "# Q19.1 `price_by_class` groupby `high_class` and compute median `price`.\n",
    "# Q19.5 `floors_by_age` groupby `floors` and compute average age of a house.\n",
    "\n",
    "gp = data.groupby('high_class')['price'].median()\n",
    "data['price_by_class'] = data['high_class'].map(gp)\n",
    "print_string(data['price_by_class'])\n",
    "\n",
    "\n",
    "gp = data.groupby(data.index)['year'].min()\n",
    "data['yr_first'] = data.index.map(gp)\n",
    "print(data['yr_first'])\n",
    "\n",
    "data['age'] = data['yr_first'] - data['yr_built']\n",
    "gp = data.groupby('floors')['age'].mean()\n",
    "data['floors_by_age'] = data['floors'].map(gp)\n",
    "print_string(data['floors_by_age'])\n",
    "\n",
    "\n",
    "data.drop('age', axis=1, inplace=True)\n",
    "data.drop('yr_first', axis=1, inplace=True)"
   ],
   "metadata": {
    "collapsed": false,
    "pycharm": {
     "name": "#%% 5,1\n"
    }
   }
  },
  {
   "cell_type": "code",
   "execution_count": 29,
   "outputs": [
    {
     "name": "stdout",
     "output_type": "stream",
     "text": [
      "id\n",
      "1000102       199\n",
      "1000102       199\n",
      "1200019       254\n",
      "1200021       254\n",
      "2800031       269\n",
      "             ... \n",
      "9842300095    354\n",
      "9842300485    354\n",
      "9842300540    354\n",
      "9895000040    412\n",
      "9900000190    254\n",
      "Name: n_houses_zipcode, Length: 21613, dtype: int64\n",
      "*--------------------*\n",
      "id\n",
      "1000102       224\n",
      "1000102       224\n",
      "1200019       263\n",
      "1200021       220\n",
      "2800031        90\n",
      "             ... \n",
      "9842300095    115\n",
      "9842300485    106\n",
      "9842300540    223\n",
      "9895000040    130\n",
      "9900000190    170\n",
      "Name: n_houses_yr_built, Length: 21613, dtype: int64\n",
      "*--------------------*\n"
     ]
    }
   ],
   "source": [
    "# Create some other groupby features\n",
    "# for this task check out this answer:\n",
    "# https://stackoverflow.com/questions/47913343/how-to-groupby-and-map-by-two-columns-pandas-dataframe\n",
    "\n",
    "# Q20.1 `n_houses_zipcode` groupby `zipcode` and count number of occurences of every unique zipcode\n",
    "# Q20.2 `n_houses_yr_built` groupby `yr_built` and count number of houses built in each year\n",
    "\n",
    "gp = data.groupby('zipcode')['zipcode'].count()\n",
    "data['n_houses_zipcode'] = data['zipcode'].map(gp)\n",
    "print_string(data['n_houses_zipcode'])\n",
    "\n",
    "\n",
    "gp = data.groupby('yr_built')['yr_built'].count()\n",
    "data['n_houses_yr_built'] = data['yr_built'].map(gp)\n",
    "print_string(data['n_houses_yr_built'])\n"
   ],
   "metadata": {
    "collapsed": false,
    "pycharm": {
     "name": "#%% 2,1\n"
    }
   }
  },
  {
   "cell_type": "code",
   "execution_count": 30,
   "outputs": [
    {
     "name": "stdout",
     "output_type": "stream",
     "text": [
      "id\n",
      "1000102       223\n",
      "1000102       223\n",
      "1200019       261\n",
      "1200021       219\n",
      "2800031        90\n",
      "             ... \n",
      "9842300095    115\n",
      "9842300485    103\n",
      "9842300540    221\n",
      "9895000040    130\n",
      "9900000190    165\n",
      "Name: n_houses_yr_built_tmp, Length: 21613, dtype: int64\n",
      "*--------------------*\n"
     ]
    }
   ],
   "source": [
    "tmp = data.reset_index().drop_duplicates(subset=['id'])\n",
    "gp = tmp.groupby('yr_built')['yr_built'].count()\n",
    "data['n_houses_yr_built_tmp'] = data['yr_built'].map(gp)\n",
    "print_string(data['n_houses_yr_built_tmp'])\n",
    "\n",
    "\n"
   ],
   "metadata": {
    "collapsed": false,
    "pycharm": {
     "name": "#%% for unique indexes\n"
    }
   }
  },
  {
   "cell_type": "code",
   "execution_count": 31,
   "outputs": [
    {
     "name": "stdout",
     "output_type": "stream",
     "text": [
      "Index(['price', 'bedrooms', 'bathrooms', 'sqft_living', 'sqft_lot', 'floors',\n",
      "       'waterfront', 'view', 'condition', 'grade', 'sqft_above',\n",
      "       'sqft_basement', 'yr_built', 'yr_renovated', 'zipcode', 'lat', 'long',\n",
      "       'sqft_living15', 'sqft_lot15', 'was_renovated', 'sqft_tot_area',\n",
      "       'sqm_tot_area', 'sqm_aver_floor_area', 'price_cat', 'high_class',\n",
      "       'year', 'month', 'day', 'weekday', 'house_age_10', 'price_by_class',\n",
      "       'floors_by_age', 'n_houses_zipcode', 'n_houses_yr_built',\n",
      "       'n_houses_yr_built_tmp'],\n",
      "      dtype='object')\n",
      "*--------------------*\n",
      "Index(['price', 'bedrooms', 'bathrooms', 'sqft_living', 'sqft_lot', 'floors',\n",
      "       'waterfront', 'view', 'condition', 'grade', 'sqft_above',\n",
      "       'sqft_basement', 'yr_built', 'yr_renovated', 'zipcode', 'lat', 'long',\n",
      "       'sqft_living15', 'sqft_lot15', 'was_renovated', 'sqft_tot_area',\n",
      "       'sqm_tot_area', 'sqm_aver_floor_area', 'high_class', 'year', 'month',\n",
      "       'day', 'weekday', 'house_age_10', 'floors_by_age', 'n_houses_zipcode',\n",
      "       'n_houses_yr_built', 'n_houses_yr_built_tmp'],\n",
      "      dtype='object')\n",
      "*--------------------*\n"
     ]
    }
   ],
   "source": [
    "# Q21 Drop all generated features which used price column, e.g. price_by_year, price_cat.\n",
    "\n",
    "print_string(data.columns)\n",
    "for name in data.columns:\n",
    "    if 'price_' in name:\n",
    "        data.drop(name, axis=1, inplace=True)\n",
    "\n",
    "print_string(data.columns)\n",
    "\n",
    "data.drop('n_houses_yr_built_tmp', axis=1, inplace=True)"
   ],
   "metadata": {
    "collapsed": false,
    "pycharm": {
     "name": "#%%\n"
    }
   }
  },
  {
   "cell_type": "code",
   "execution_count": 32,
   "outputs": [
    {
     "name": "stdout",
     "output_type": "stream",
     "text": [
      "14480,7133\n",
      "*--------------------*\n"
     ]
    }
   ],
   "source": [
    "# Q22 Split your data into train and test parts.\n",
    "# How many records (rows) do you have in train and test tables? (list of int)?\n",
    "# Use sklearn.model_selection.train_test_split with test_size=0.33 and random_state=7\n",
    "from sklearn.model_selection import train_test_split\n",
    "\n",
    "X = data.drop('price', axis=1)\n",
    "Y = data.price\n",
    "\n",
    "X_train, X_test, Y_train, Y_test = train_test_split(X, Y, test_size=0.33, random_state=7)\n",
    "\n",
    "rec = sorted([Y_train.shape[0], Y_test.shape[0]], reverse=True)\n",
    "print_string(f'{rec[0]},{rec[1]}')\n"
   ],
   "metadata": {
    "collapsed": false,
    "pycharm": {
     "name": "#%%\n"
    }
   }
  },
  {
   "cell_type": "code",
   "execution_count": 33,
   "outputs": [],
   "source": [
    "# Create a predictive regression model of a house price.\n",
    "\n",
    "# Q23.1 Use linear regression with l2 regularization (Ridge regression)\n",
    "# Q23.3 Use k nearest neighbours !!!regression!!!\n",
    "\n",
    "from sklearn.linear_model import Ridge\n",
    "\n",
    "ridge = Ridge()\n",
    "ridge.fit(X_train, Y_train);\n",
    "\n",
    "\n",
    "from sklearn.neighbors import KNeighborsRegressor\n",
    "\n",
    "knn = KNeighborsRegressor()\n",
    "knn.fit(X_train, Y_train);\n"
   ],
   "metadata": {
    "collapsed": false,
    "pycharm": {
     "name": "#%% 1,3\n"
    }
   }
  },
  {
   "cell_type": "code",
   "execution_count": 34,
   "outputs": [
    {
     "name": "stdout",
     "output_type": "stream",
     "text": [
      "Ridge(alpha=0.06122448979591866, copy_X=True, fit_intercept=True, max_iter=None,\n",
      "      normalize=False, random_state=None, solver='auto', tol=0.001)\n",
      "*--------------------*\n",
      "KNeighborsRegressor(algorithm='auto', leaf_size=30, metric='minkowski',\n",
      "                    metric_params=None, n_jobs=None, n_neighbors=5, p=2,\n",
      "                    weights='uniform')\n",
      "*--------------------*\n"
     ]
    }
   ],
   "source": [
    "# Use grid search to select optimal hyperparamters of your models.\n",
    "\n",
    "# Q24.1 Alpha for a ridge regression\n",
    "# Q24.3 Number of neighbours for the knn\n",
    "\n",
    "from sklearn.model_selection import GridSearchCV\n",
    "from sklearn.model_selection import KFold\n",
    "\n",
    "\n",
    "cv = KFold(n_splits=5, shuffle=True, random_state=7)\n",
    "clf = Ridge()\n",
    "grid = {\n",
    "    'alpha':np.linspace(-6, 3)\n",
    "}\n",
    "\n",
    "gs_lin_reg = GridSearchCV(clf, param_grid=grid, cv=cv)\n",
    "gs_lin_reg.fit(X_train, Y_train);\n",
    "print_string(gs_lin_reg.best_estimator_)\n",
    "\n",
    "\n",
    "cv = KFold(n_splits=5, shuffle=True, random_state=7)\n",
    "pipe = KNeighborsRegressor()\n",
    "grid = {\n",
    "    'n_neighbors':range(3,15,2)\n",
    "}\n",
    "gs_knn = GridSearchCV(pipe, param_grid=grid)\n",
    "gs_knn.fit(X_train, Y_train);\n",
    "print_string(gs_knn.best_estimator_)"
   ],
   "metadata": {
    "collapsed": false,
    "pycharm": {
     "name": "#%% 1,3\n"
    }
   }
  },
  {
   "cell_type": "code",
   "execution_count": 35,
   "outputs": [
    {
     "name": "stdout",
     "output_type": "stream",
     "text": [
      "41800329459.555,34721433244.823\n",
      "*--------------------*\n",
      "62200167321.026,43081449140.223\n",
      "*--------------------*\n"
     ]
    }
   ],
   "source": [
    "# Compute train and test mean squared error for your best models (list of float).\n",
    "\n",
    "# Q25.1 Train, test MSE using linear regression with l2 regularization\n",
    "# Q25.3 Train, test MSE using k nearest neighbours regression\n",
    "\n",
    "from sklearn.metrics import mean_squared_error as mse\n",
    "\n",
    "\n",
    "Y_pred_train = gs_lin_reg.predict(X_train)\n",
    "mse_pred_train = mse(Y_train, Y_pred_train)\n",
    "Y_pred_test = gs_lin_reg.predict(X_test)\n",
    "mse_pred_test = mse(Y_test, Y_pred_test)\n",
    "mse_ar = sorted([mse_pred_test.round(3), mse_pred_train.round(3)], reverse=True)\n",
    "print_string(f'{mse_ar[0]},{mse_ar[1]}')\n",
    "\n",
    "\n",
    "Y_pred_train = gs_knn.predict(X_train)\n",
    "mse_pred_train = mse(Y_train, Y_pred_train)\n",
    "Y_pred_test = gs_knn.predict(X_test)\n",
    "mse_pred_test = mse(Y_test, Y_pred_test)\n",
    "mse_ar = sorted([mse_pred_test.round(3), mse_pred_train.round(3)], reverse=True)\n",
    "print_string(f'{mse_ar[0]},{mse_ar[1]}')\n"
   ],
   "metadata": {
    "collapsed": false,
    "pycharm": {
     "name": "#%% 1,3\n"
    }
   }
  },
  {
   "cell_type": "code",
   "execution_count": 36,
   "outputs": [
    {
     "name": "stdout",
     "output_type": "stream",
     "text": [
      "0.713,0.705\n",
      "*--------------------*\n",
      "0.696,0.486\n",
      "*--------------------*\n"
     ]
    }
   ],
   "source": [
    "# Compute train and test R^2 for your best models (list of float).\n",
    "\n",
    "# Q26.1 Train, test R^2 using linear regression with l2 regularization\n",
    "# Q26.3 Train, test R^2 using k nearest neighbours regression\n",
    "\n",
    "from sklearn.metrics import r2_score as r2\n",
    "\n",
    "\n",
    "Y_pred_train = gs_lin_reg.predict(X_train)\n",
    "r2_pred_train = r2(Y_train, Y_pred_train)\n",
    "Y_pred_test = gs_lin_reg.predict(X_test)\n",
    "r2_pred_test = r2(Y_test, Y_pred_test)\n",
    "r2_ar = sorted([r2_pred_test.round(3), r2_pred_train.round(3)], reverse=True)\n",
    "print_string(f'{r2_ar[0]},{r2_ar[1]}')\n",
    "\n",
    "\n",
    "Y_pred_train = gs_knn.predict(X_train)\n",
    "r2_pred_train = r2(Y_train, Y_pred_train)\n",
    "Y_pred_test = gs_knn.predict(X_test)\n",
    "r2_pred_test = r2(Y_test, Y_pred_test)\n",
    "r2_ar = sorted([r2_pred_test.round(3), r2_pred_train.round(3)], reverse=True)\n",
    "print_string(f'{r2_ar[0]},{r2_ar[1]}')"
   ],
   "metadata": {
    "collapsed": false,
    "pycharm": {
     "name": "#%% 1,3\n"
    }
   }
  },
  {
   "cell_type": "code",
   "execution_count": 37,
   "outputs": [
    {
     "name": "stdout",
     "output_type": "stream",
     "text": [
      "high_class,lat,long,was_renovated,waterfront,\n",
      "*--------------------*\n"
     ]
    }
   ],
   "source": [
    "# Q27 Which features have largest (by absolute value) weight in your linear model (top 5 features)? (list of str).\n",
    "\n",
    "weights = np.abs(gs_lin_reg.best_estimator_.coef_)\n",
    "feature_weights = sorted(dict(sorted(dict(zip(weights, X.columns)).items(), reverse=True)[:5]).values())\n",
    "\n",
    "features = ''\n",
    "for feature in feature_weights:\n",
    "    features += feature + ','\n",
    "print_string(features)\n",
    "\n"
   ],
   "metadata": {
    "collapsed": false,
    "pycharm": {
     "name": "#%%\n"
    }
   }
  }
 ],
 "metadata": {
  "kernelspec": {
   "display_name": "Python 3",
   "language": "python",
   "name": "python3"
  },
  "language_info": {
   "codemirror_mode": {
    "name": "ipython",
    "version": 2
   },
   "file_extension": ".py",
   "mimetype": "text/x-python",
   "name": "python",
   "nbconvert_exporter": "python",
   "pygments_lexer": "ipython2",
   "version": "2.7.6"
  }
 },
 "nbformat": 4,
 "nbformat_minor": 0
}